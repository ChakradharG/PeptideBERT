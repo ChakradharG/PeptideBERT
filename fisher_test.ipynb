{
 "cells": [
  {
   "cell_type": "markdown",
   "metadata": {},
   "source": [
    "## Imports"
   ]
  },
  {
   "cell_type": "code",
   "execution_count": 1,
   "metadata": {},
   "outputs": [],
   "source": [
    "import torch\n",
    "import yaml\n",
    "from data.dataloader import load_data\n",
    "from model.network import create_model\n",
    "from data.analysis import get_confusion_matrix, fisher_test"
   ]
  },
  {
   "cell_type": "markdown",
   "metadata": {},
   "source": [
    "## Config"
   ]
  },
  {
   "cell_type": "code",
   "execution_count": null,
   "metadata": {},
   "outputs": [],
   "source": [
    "device = torch.device('cuda' if torch.cuda.is_available() else 'cpu')\n",
    "print(f'Device: {device}\\n')\n",
    "\n",
    "config = yaml.load(open('./config.yaml', 'r'), Loader=yaml.FullLoader)\n",
    "config['device'] = device"
   ]
  },
  {
   "cell_type": "markdown",
   "metadata": {},
   "source": [
    "## Load Data"
   ]
  },
  {
   "cell_type": "code",
   "execution_count": null,
   "metadata": {},
   "outputs": [],
   "source": [
    "train_data_loader, val_data_loader, test_data_loader = load_data(config)"
   ]
  },
  {
   "cell_type": "markdown",
   "metadata": {},
   "source": [
    "## Create Model and Load Checkpoint"
   ]
  },
  {
   "cell_type": "code",
   "execution_count": null,
   "metadata": {},
   "outputs": [],
   "source": [
    "model = create_model(config)\n",
    "\n",
    "checkpoint_path = 'CHANGE THIS'\n",
    "checkpoint_path = f'./checkpoints/best/{config[\"task\"]}/model.pt'\n",
    "\n",
    "model.load_state_dict(\n",
    "    torch.load(\n",
    "        checkpoint_path\n",
    "    )['model_state_dict'], \n",
    "    strict=False\n",
    ")"
   ]
  },
  {
   "cell_type": "markdown",
   "metadata": {},
   "source": [
    "## Confusion Matrix"
   ]
  },
  {
   "cell_type": "code",
   "execution_count": null,
   "metadata": {},
   "outputs": [],
   "source": [
    "train_conf_mat = get_confusion_matrix(\n",
    "    model, train_data_loader, \n",
    "    device, save=False, \n",
    "    fname=f'{config[\"task\"]}-train'\n",
    ")\n",
    "val_conf_mat = get_confusion_matrix(\n",
    "    model, val_data_loader, \n",
    "    device, save=False, \n",
    "    fname=f'{config[\"task\"]}-val'\n",
    ")\n",
    "test_conf_mat = get_confusion_matrix(\n",
    "    model, test_data_loader, \n",
    "    device, save=False, \n",
    "    fname=f'{config[\"task\"]}-test'\n",
    ")\n",
    "\n",
    "print(train_conf_mat, val_conf_mat, test_conf_mat)"
   ]
  },
  {
   "cell_type": "markdown",
   "metadata": {},
   "source": [
    "## P-values using Fisher's Exact Test (Two-sided)"
   ]
  },
  {
   "cell_type": "code",
   "execution_count": null,
   "metadata": {},
   "outputs": [],
   "source": [
    "train_pvalue = fisher_test(train_conf_mat)\n",
    "val_pvalue = fisher_test(val_conf_mat)\n",
    "test_pvalue = fisher_test(test_conf_mat)\n",
    "\n",
    "print(train_pvalue, val_pvalue, test_pvalue)"
   ]
  }
 ],
 "metadata": {
  "kernelspec": {
   "display_name": "venv",
   "language": "python",
   "name": "python3"
  },
  "language_info": {
   "codemirror_mode": {
    "name": "ipython",
    "version": 3
   },
   "file_extension": ".py",
   "mimetype": "text/x-python",
   "name": "python",
   "nbconvert_exporter": "python",
   "pygments_lexer": "ipython3",
   "version": "3.10.12"
  },
  "orig_nbformat": 4
 },
 "nbformat": 4,
 "nbformat_minor": 2
}
